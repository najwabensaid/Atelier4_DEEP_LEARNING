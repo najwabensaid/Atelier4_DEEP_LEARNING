{
 "cells": [
  {
   "cell_type": "code",
   "execution_count": null,
   "id": "882194e6",
   "metadata": {},
   "outputs": [],
   "source": [
    "# Import necessary libraries and modules\n",
    "import torch\n",
    "import torchvision\n",
    "import torch.nn as nn\n",
    "import matplotlib.pyplot as plt\n",
    "import numpy as np\n",
    "from torchvision import transforms"
   ]
  },
  {
   "cell_type": "code",
   "execution_count": 2,
   "id": "168e3012",
   "metadata": {},
   "outputs": [],
   "source": [
    "# Define a data transformation to convert images to tensors\n",
    "transform = transforms.ToTensor()"
   ]
  },
  {
   "cell_type": "code",
   "execution_count": null,
   "id": "4d5bec32",
   "metadata": {},
   "outputs": [],
   "source": [
    "# Load the MNIST dataset for training and validation\n",
    "train_dataset = torchvision.datasets.MNIST(root='./data', train=True, download=True, transform=transform)\n",
    "valid_dataset = torchvision.datasets.MNIST(root='./data', train=False, download=True, transform=transform)\n",
    "\n",
    "# Create a data loader for training data with a batch size of 100\n",
    "train_dl = torch.utils.data.DataLoader(train_dataset, batch_size=100)"
   ]
  },
  {
   "cell_type": "code",
   "execution_count": null,
   "id": "c6386b78",
   "metadata": {},
   "outputs": [],
   "source": [
    "# Define the Encoder class \n",
    "class Encoder(nn.Module):\n",
    "    def __init__(self, input_size=28 * 28, hidden_size1=128, hidden_size2=16, z_dim=2):\n",
    "        super().__init__()\n",
    "        self.fc1 = nn.Linear(input_size, hidden_size1)\n",
    "        self.fc2 = nn.Linear(hidden_size1, hidden_size2)\n",
    "        self.fc3 = nn.Linear(hidden_size2, z_dim)\n",
    "        self.relu = nn.ReLU()\n",
    "\n",
    "    def forward(self, x):\n",
    "        x = self.relu(self.fc1(x))\n",
    "        x = self.relu(self.fc2(x))\n",
    "        x = self.fc3(x)\n",
    "        return x"
   ]
  },
  {
   "cell_type": "code",
   "execution_count": null,
   "id": "0ab17361",
   "metadata": {},
   "outputs": [],
   "source": [
    "# Define the Decoder class \n",
    "class Decoder(nn.Module):\n",
    "    def __init__(self, output_size=28 * 28, hidden_size1=128, hidden_size2=16, z_dim=2):\n",
    "        super().__init()\n",
    "        self.fc1 = nn.Linear(z_dim, hidden_size2)\n",
    "        self.fc2 = nn.Linear(hidden_size2, hidden_size1)\n",
    "        self.fc3 = nn.Linear(hidden_size1, output_size)\n",
    "        self.relu = nn.ReLU()\n",
    "\n",
    "    def forward(self, x):\n",
    "        x = self.relu(self.fc1(x))\n",
    "        x = self.relu(self.fc2(x))\n",
    "        x = torch.sigmoid(self.fc3(x))\n",
    "        return x"
   ]
  },
  {
   "cell_type": "code",
   "execution_count": null,
   "id": "1fc0285a",
   "metadata": {},
   "outputs": [],
   "source": [
    "# Check for GPU availability and set the device accordingly\n",
    "device = torch.device('cuda' if torch.cuda.is_available() else 'cpu')"
   ]
  },
  {
   "cell_type": "code",
   "execution_count": null,
   "id": "15070859",
   "metadata": {},
   "outputs": [],
   "source": [
    "# Initialize the Encoder and Decoder on the selected device\n",
    "enc = Encoder().to(device)\n",
    "dec = Decoder().to(device)"
   ]
  },
  {
   "cell_type": "code",
   "execution_count": null,
   "id": "d982b854",
   "metadata": {},
   "outputs": [],
   "source": [
    "# Define the loss function (Mean Squared Error) and the optimizers\n",
    "loss_fn = nn.MSELoss()\n",
    "optimizer_enc = torch.optim.Adam(enc.parameters())\n",
    "optimizer_dec = torch.optim.Adam(dec.parameters())"
   ]
  },
  {
   "cell_type": "code",
   "execution_count": null,
   "id": "c6642eeb",
   "metadata": {},
   "outputs": [],
   "source": [
    "# Store training loss values for each epoch\n",
    "train_loss = []\n",
    "num_epochs = 100"
   ]
  },
  {
   "cell_type": "code",
   "execution_count": null,
   "id": "4db96b08",
   "metadata": {},
   "outputs": [],
   "source": [
    "# Loop through training epochs\n",
    "for epoch in range(num_epochs):\n",
    "    train_epoch_loss = 0\n",
    "\n",
    "    # Iterate through batches of training data\n",
    "    for (imgs, _) in train_dl:\n",
    "        imgs = imgs.to(device)\n",
    "        imgs = imgs.flatten(1)\n",
    "        latents = enc(imgs)\n",
    "        output = dec(latents)\n",
    "        loss = loss_fn(output, imgs)\n",
    "        train_epoch_loss += loss.cpu().detach().numpy()\n",
    "        optimizer_enc.zero_grad()\n",
    "        optimizer_dec.zero_grad()\n",
    "        loss.backward()\n",
    "        optimizer_enc.step()\n",
    "        optimizer_dec.step()\n",
    "\n",
    "    train_loss.append(train_epoch_loss)"
   ]
  },
  {
   "cell_type": "code",
   "execution_count": null,
   "id": "bcb54e5e",
   "metadata": {},
   "outputs": [],
   "source": [
    "# Plot the training loss over epochs\n",
    "plt.plot(train_loss)"
   ]
  },
  {
   "cell_type": "code",
   "execution_count": null,
   "id": "8502ae1e",
   "metadata": {},
   "outputs": [],
   "source": [
    "# Initialize variables to store latent representations and labels\n",
    "values = None\n",
    "all_labels = []\n",
    "\n",
    "# Generate latent representations for the entire training dataset\n",
    "with torch.no_grad():\n",
    "    for (imgs, labels) in train_dl:\n",
    "        imgs = imgs.to(device)\n",
    "        imgs = imgs.flatten(1)\n",
    "        all_labels.extend(list(labels.numpy())\n",
    "        latents = enc(imgs)\n",
    "\n",
    "        if values is None:\n",
    "            values = latents.cpu()\n",
    "        else:\n",
    "            values = torch.vstack([values, latents.cpu()])"
   ]
  },
  {
   "cell_type": "code",
   "execution_count": null,
   "id": "88b5a45b",
   "metadata": {},
   "outputs": [],
   "source": [
    "# Create a color map for visualization\n",
    "cmap = plt.get_cmap('viridis', 10)"
   ]
  },
  {
   "cell_type": "code",
   "execution_count": null,
   "id": "7c490c98",
   "metadata": {},
   "outputs": [],
   "source": [
    "# Plot the scatter plot of latent space with color-coded labels\n",
    "all_labels = np.array(all_labels)\n",
    "values = values.numpy()\n",
    "pc = plt.scatter(values[:, 0], values[:, 1], c=all_labels, cmap=cmap)\n",
    "plt.colorbar(pc)"
   ]
  },
  {
   "cell_type": "code",
   "execution_count": null,
   "id": "5ecb02ad",
   "metadata": {},
   "outputs": [],
   "source": [
    "# Generate an image using a specific class's mean latent representation\n",
    "with torch.no_grad():\n",
    "    pred = dec(torch.Tensor(all_means[8])[None, ...].to(device)).cpu()\n",
    "    transforms.ToPILImage()(pred.reshape(1, 28, 28))"
   ]
  }
 ],
 "metadata": {
  "kernelspec": {
   "display_name": "Python 3 (ipykernel)",
   "language": "python",
   "name": "python3"
  },
  "language_info": {
   "codemirror_mode": {
    "name": "ipython",
    "version": 3
   },
   "file_extension": ".py",
   "mimetype": "text/x-python",
   "name": "python",
   "nbconvert_exporter": "python",
   "pygments_lexer": "ipython3",
   "version": "3.10.9"
  }
 },
 "nbformat": 4,
 "nbformat_minor": 5
}
